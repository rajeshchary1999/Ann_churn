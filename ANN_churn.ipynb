{
  "nbformat": 4,
  "nbformat_minor": 0,
  "metadata": {
    "colab": {
      "name": "ANN_churn",
      "provenance": []
    },
    "kernelspec": {
      "name": "python3",
      "display_name": "Python 3"
    },
    "language_info": {
      "name": "python"
    }
  },
  "cells": [
    {
      "cell_type": "code",
      "execution_count": 1,
      "metadata": {
        "colab": {
          "base_uri": "https://localhost:8080/"
        },
        "id": "LgZac3AhQTXw",
        "outputId": "817cf698-55db-4217-9cf0-ff6be724955f"
      },
      "outputs": [
        {
          "output_type": "stream",
          "name": "stdout",
          "text": [
            "Looking in indexes: https://pypi.org/simple, https://us-python.pkg.dev/colab-wheels/public/simple/\n",
            "Requirement already satisfied: keras in /usr/local/lib/python3.7/dist-packages (2.8.0)\n"
          ]
        }
      ],
      "source": [
        "pip install keras"
      ]
    },
    {
      "cell_type": "code",
      "source": [
        "import numpy as np\n",
        "import pandas as pd"
      ],
      "metadata": {
        "id": "UyjD4p76QXrd"
      },
      "execution_count": 2,
      "outputs": []
    },
    {
      "cell_type": "code",
      "source": [
        "df = pd.read_csv(\"https://raw.githubusercontent.com/krishnaik06/Complete-Deep-Learning/master/ANN/Churn_Modelling.csv\")"
      ],
      "metadata": {
        "id": "XrLSqBbBQk66"
      },
      "execution_count": 4,
      "outputs": []
    },
    {
      "cell_type": "code",
      "source": [
        "df"
      ],
      "metadata": {
        "colab": {
          "base_uri": "https://localhost:8080/",
          "height": 424
        },
        "id": "FojCn-O5QpDX",
        "outputId": "d6ff1b2c-7185-4437-b6b4-26df1de01bbb"
      },
      "execution_count": 6,
      "outputs": [
        {
          "output_type": "execute_result",
          "data": {
            "text/plain": [
              "      RowNumber  CustomerId    Surname  CreditScore Geography  Gender  Age  \\\n",
              "0             1    15634602   Hargrave          619    France  Female   42   \n",
              "1             2    15647311       Hill          608     Spain  Female   41   \n",
              "2             3    15619304       Onio          502    France  Female   42   \n",
              "3             4    15701354       Boni          699    France  Female   39   \n",
              "4             5    15737888   Mitchell          850     Spain  Female   43   \n",
              "...         ...         ...        ...          ...       ...     ...  ...   \n",
              "9995       9996    15606229   Obijiaku          771    France    Male   39   \n",
              "9996       9997    15569892  Johnstone          516    France    Male   35   \n",
              "9997       9998    15584532        Liu          709    France  Female   36   \n",
              "9998       9999    15682355  Sabbatini          772   Germany    Male   42   \n",
              "9999      10000    15628319     Walker          792    France  Female   28   \n",
              "\n",
              "      Tenure    Balance  NumOfProducts  HasCrCard  IsActiveMember  \\\n",
              "0          2       0.00              1          1               1   \n",
              "1          1   83807.86              1          0               1   \n",
              "2          8  159660.80              3          1               0   \n",
              "3          1       0.00              2          0               0   \n",
              "4          2  125510.82              1          1               1   \n",
              "...      ...        ...            ...        ...             ...   \n",
              "9995       5       0.00              2          1               0   \n",
              "9996      10   57369.61              1          1               1   \n",
              "9997       7       0.00              1          0               1   \n",
              "9998       3   75075.31              2          1               0   \n",
              "9999       4  130142.79              1          1               0   \n",
              "\n",
              "      EstimatedSalary  Exited  \n",
              "0           101348.88       1  \n",
              "1           112542.58       0  \n",
              "2           113931.57       1  \n",
              "3            93826.63       0  \n",
              "4            79084.10       0  \n",
              "...               ...     ...  \n",
              "9995         96270.64       0  \n",
              "9996        101699.77       0  \n",
              "9997         42085.58       1  \n",
              "9998         92888.52       1  \n",
              "9999         38190.78       0  \n",
              "\n",
              "[10000 rows x 14 columns]"
            ],
            "text/html": [
              "\n",
              "  <div id=\"df-fea12ee1-f650-4381-81bb-a1212876d077\">\n",
              "    <div class=\"colab-df-container\">\n",
              "      <div>\n",
              "<style scoped>\n",
              "    .dataframe tbody tr th:only-of-type {\n",
              "        vertical-align: middle;\n",
              "    }\n",
              "\n",
              "    .dataframe tbody tr th {\n",
              "        vertical-align: top;\n",
              "    }\n",
              "\n",
              "    .dataframe thead th {\n",
              "        text-align: right;\n",
              "    }\n",
              "</style>\n",
              "<table border=\"1\" class=\"dataframe\">\n",
              "  <thead>\n",
              "    <tr style=\"text-align: right;\">\n",
              "      <th></th>\n",
              "      <th>RowNumber</th>\n",
              "      <th>CustomerId</th>\n",
              "      <th>Surname</th>\n",
              "      <th>CreditScore</th>\n",
              "      <th>Geography</th>\n",
              "      <th>Gender</th>\n",
              "      <th>Age</th>\n",
              "      <th>Tenure</th>\n",
              "      <th>Balance</th>\n",
              "      <th>NumOfProducts</th>\n",
              "      <th>HasCrCard</th>\n",
              "      <th>IsActiveMember</th>\n",
              "      <th>EstimatedSalary</th>\n",
              "      <th>Exited</th>\n",
              "    </tr>\n",
              "  </thead>\n",
              "  <tbody>\n",
              "    <tr>\n",
              "      <th>0</th>\n",
              "      <td>1</td>\n",
              "      <td>15634602</td>\n",
              "      <td>Hargrave</td>\n",
              "      <td>619</td>\n",
              "      <td>France</td>\n",
              "      <td>Female</td>\n",
              "      <td>42</td>\n",
              "      <td>2</td>\n",
              "      <td>0.00</td>\n",
              "      <td>1</td>\n",
              "      <td>1</td>\n",
              "      <td>1</td>\n",
              "      <td>101348.88</td>\n",
              "      <td>1</td>\n",
              "    </tr>\n",
              "    <tr>\n",
              "      <th>1</th>\n",
              "      <td>2</td>\n",
              "      <td>15647311</td>\n",
              "      <td>Hill</td>\n",
              "      <td>608</td>\n",
              "      <td>Spain</td>\n",
              "      <td>Female</td>\n",
              "      <td>41</td>\n",
              "      <td>1</td>\n",
              "      <td>83807.86</td>\n",
              "      <td>1</td>\n",
              "      <td>0</td>\n",
              "      <td>1</td>\n",
              "      <td>112542.58</td>\n",
              "      <td>0</td>\n",
              "    </tr>\n",
              "    <tr>\n",
              "      <th>2</th>\n",
              "      <td>3</td>\n",
              "      <td>15619304</td>\n",
              "      <td>Onio</td>\n",
              "      <td>502</td>\n",
              "      <td>France</td>\n",
              "      <td>Female</td>\n",
              "      <td>42</td>\n",
              "      <td>8</td>\n",
              "      <td>159660.80</td>\n",
              "      <td>3</td>\n",
              "      <td>1</td>\n",
              "      <td>0</td>\n",
              "      <td>113931.57</td>\n",
              "      <td>1</td>\n",
              "    </tr>\n",
              "    <tr>\n",
              "      <th>3</th>\n",
              "      <td>4</td>\n",
              "      <td>15701354</td>\n",
              "      <td>Boni</td>\n",
              "      <td>699</td>\n",
              "      <td>France</td>\n",
              "      <td>Female</td>\n",
              "      <td>39</td>\n",
              "      <td>1</td>\n",
              "      <td>0.00</td>\n",
              "      <td>2</td>\n",
              "      <td>0</td>\n",
              "      <td>0</td>\n",
              "      <td>93826.63</td>\n",
              "      <td>0</td>\n",
              "    </tr>\n",
              "    <tr>\n",
              "      <th>4</th>\n",
              "      <td>5</td>\n",
              "      <td>15737888</td>\n",
              "      <td>Mitchell</td>\n",
              "      <td>850</td>\n",
              "      <td>Spain</td>\n",
              "      <td>Female</td>\n",
              "      <td>43</td>\n",
              "      <td>2</td>\n",
              "      <td>125510.82</td>\n",
              "      <td>1</td>\n",
              "      <td>1</td>\n",
              "      <td>1</td>\n",
              "      <td>79084.10</td>\n",
              "      <td>0</td>\n",
              "    </tr>\n",
              "    <tr>\n",
              "      <th>...</th>\n",
              "      <td>...</td>\n",
              "      <td>...</td>\n",
              "      <td>...</td>\n",
              "      <td>...</td>\n",
              "      <td>...</td>\n",
              "      <td>...</td>\n",
              "      <td>...</td>\n",
              "      <td>...</td>\n",
              "      <td>...</td>\n",
              "      <td>...</td>\n",
              "      <td>...</td>\n",
              "      <td>...</td>\n",
              "      <td>...</td>\n",
              "      <td>...</td>\n",
              "    </tr>\n",
              "    <tr>\n",
              "      <th>9995</th>\n",
              "      <td>9996</td>\n",
              "      <td>15606229</td>\n",
              "      <td>Obijiaku</td>\n",
              "      <td>771</td>\n",
              "      <td>France</td>\n",
              "      <td>Male</td>\n",
              "      <td>39</td>\n",
              "      <td>5</td>\n",
              "      <td>0.00</td>\n",
              "      <td>2</td>\n",
              "      <td>1</td>\n",
              "      <td>0</td>\n",
              "      <td>96270.64</td>\n",
              "      <td>0</td>\n",
              "    </tr>\n",
              "    <tr>\n",
              "      <th>9996</th>\n",
              "      <td>9997</td>\n",
              "      <td>15569892</td>\n",
              "      <td>Johnstone</td>\n",
              "      <td>516</td>\n",
              "      <td>France</td>\n",
              "      <td>Male</td>\n",
              "      <td>35</td>\n",
              "      <td>10</td>\n",
              "      <td>57369.61</td>\n",
              "      <td>1</td>\n",
              "      <td>1</td>\n",
              "      <td>1</td>\n",
              "      <td>101699.77</td>\n",
              "      <td>0</td>\n",
              "    </tr>\n",
              "    <tr>\n",
              "      <th>9997</th>\n",
              "      <td>9998</td>\n",
              "      <td>15584532</td>\n",
              "      <td>Liu</td>\n",
              "      <td>709</td>\n",
              "      <td>France</td>\n",
              "      <td>Female</td>\n",
              "      <td>36</td>\n",
              "      <td>7</td>\n",
              "      <td>0.00</td>\n",
              "      <td>1</td>\n",
              "      <td>0</td>\n",
              "      <td>1</td>\n",
              "      <td>42085.58</td>\n",
              "      <td>1</td>\n",
              "    </tr>\n",
              "    <tr>\n",
              "      <th>9998</th>\n",
              "      <td>9999</td>\n",
              "      <td>15682355</td>\n",
              "      <td>Sabbatini</td>\n",
              "      <td>772</td>\n",
              "      <td>Germany</td>\n",
              "      <td>Male</td>\n",
              "      <td>42</td>\n",
              "      <td>3</td>\n",
              "      <td>75075.31</td>\n",
              "      <td>2</td>\n",
              "      <td>1</td>\n",
              "      <td>0</td>\n",
              "      <td>92888.52</td>\n",
              "      <td>1</td>\n",
              "    </tr>\n",
              "    <tr>\n",
              "      <th>9999</th>\n",
              "      <td>10000</td>\n",
              "      <td>15628319</td>\n",
              "      <td>Walker</td>\n",
              "      <td>792</td>\n",
              "      <td>France</td>\n",
              "      <td>Female</td>\n",
              "      <td>28</td>\n",
              "      <td>4</td>\n",
              "      <td>130142.79</td>\n",
              "      <td>1</td>\n",
              "      <td>1</td>\n",
              "      <td>0</td>\n",
              "      <td>38190.78</td>\n",
              "      <td>0</td>\n",
              "    </tr>\n",
              "  </tbody>\n",
              "</table>\n",
              "<p>10000 rows × 14 columns</p>\n",
              "</div>\n",
              "      <button class=\"colab-df-convert\" onclick=\"convertToInteractive('df-fea12ee1-f650-4381-81bb-a1212876d077')\"\n",
              "              title=\"Convert this dataframe to an interactive table.\"\n",
              "              style=\"display:none;\">\n",
              "        \n",
              "  <svg xmlns=\"http://www.w3.org/2000/svg\" height=\"24px\"viewBox=\"0 0 24 24\"\n",
              "       width=\"24px\">\n",
              "    <path d=\"M0 0h24v24H0V0z\" fill=\"none\"/>\n",
              "    <path d=\"M18.56 5.44l.94 2.06.94-2.06 2.06-.94-2.06-.94-.94-2.06-.94 2.06-2.06.94zm-11 1L8.5 8.5l.94-2.06 2.06-.94-2.06-.94L8.5 2.5l-.94 2.06-2.06.94zm10 10l.94 2.06.94-2.06 2.06-.94-2.06-.94-.94-2.06-.94 2.06-2.06.94z\"/><path d=\"M17.41 7.96l-1.37-1.37c-.4-.4-.92-.59-1.43-.59-.52 0-1.04.2-1.43.59L10.3 9.45l-7.72 7.72c-.78.78-.78 2.05 0 2.83L4 21.41c.39.39.9.59 1.41.59.51 0 1.02-.2 1.41-.59l7.78-7.78 2.81-2.81c.8-.78.8-2.07 0-2.86zM5.41 20L4 18.59l7.72-7.72 1.47 1.35L5.41 20z\"/>\n",
              "  </svg>\n",
              "      </button>\n",
              "      \n",
              "  <style>\n",
              "    .colab-df-container {\n",
              "      display:flex;\n",
              "      flex-wrap:wrap;\n",
              "      gap: 12px;\n",
              "    }\n",
              "\n",
              "    .colab-df-convert {\n",
              "      background-color: #E8F0FE;\n",
              "      border: none;\n",
              "      border-radius: 50%;\n",
              "      cursor: pointer;\n",
              "      display: none;\n",
              "      fill: #1967D2;\n",
              "      height: 32px;\n",
              "      padding: 0 0 0 0;\n",
              "      width: 32px;\n",
              "    }\n",
              "\n",
              "    .colab-df-convert:hover {\n",
              "      background-color: #E2EBFA;\n",
              "      box-shadow: 0px 1px 2px rgba(60, 64, 67, 0.3), 0px 1px 3px 1px rgba(60, 64, 67, 0.15);\n",
              "      fill: #174EA6;\n",
              "    }\n",
              "\n",
              "    [theme=dark] .colab-df-convert {\n",
              "      background-color: #3B4455;\n",
              "      fill: #D2E3FC;\n",
              "    }\n",
              "\n",
              "    [theme=dark] .colab-df-convert:hover {\n",
              "      background-color: #434B5C;\n",
              "      box-shadow: 0px 1px 3px 1px rgba(0, 0, 0, 0.15);\n",
              "      filter: drop-shadow(0px 1px 2px rgba(0, 0, 0, 0.3));\n",
              "      fill: #FFFFFF;\n",
              "    }\n",
              "  </style>\n",
              "\n",
              "      <script>\n",
              "        const buttonEl =\n",
              "          document.querySelector('#df-fea12ee1-f650-4381-81bb-a1212876d077 button.colab-df-convert');\n",
              "        buttonEl.style.display =\n",
              "          google.colab.kernel.accessAllowed ? 'block' : 'none';\n",
              "\n",
              "        async function convertToInteractive(key) {\n",
              "          const element = document.querySelector('#df-fea12ee1-f650-4381-81bb-a1212876d077');\n",
              "          const dataTable =\n",
              "            await google.colab.kernel.invokeFunction('convertToInteractive',\n",
              "                                                     [key], {});\n",
              "          if (!dataTable) return;\n",
              "\n",
              "          const docLinkHtml = 'Like what you see? Visit the ' +\n",
              "            '<a target=\"_blank\" href=https://colab.research.google.com/notebooks/data_table.ipynb>data table notebook</a>'\n",
              "            + ' to learn more about interactive tables.';\n",
              "          element.innerHTML = '';\n",
              "          dataTable['output_type'] = 'display_data';\n",
              "          await google.colab.output.renderOutput(dataTable, element);\n",
              "          const docLink = document.createElement('div');\n",
              "          docLink.innerHTML = docLinkHtml;\n",
              "          element.appendChild(docLink);\n",
              "        }\n",
              "      </script>\n",
              "    </div>\n",
              "  </div>\n",
              "  "
            ]
          },
          "metadata": {},
          "execution_count": 6
        }
      ]
    },
    {
      "cell_type": "code",
      "source": [
        "#eda\n",
        "df.isnull().sum()"
      ],
      "metadata": {
        "colab": {
          "base_uri": "https://localhost:8080/"
        },
        "id": "ipwI-5nqQ-p7",
        "outputId": "7532e7ab-e76f-49b0-b0bb-1d6be46b9e4f"
      },
      "execution_count": 7,
      "outputs": [
        {
          "output_type": "execute_result",
          "data": {
            "text/plain": [
              "RowNumber          0\n",
              "CustomerId         0\n",
              "Surname            0\n",
              "CreditScore        0\n",
              "Geography          0\n",
              "Gender             0\n",
              "Age                0\n",
              "Tenure             0\n",
              "Balance            0\n",
              "NumOfProducts      0\n",
              "HasCrCard          0\n",
              "IsActiveMember     0\n",
              "EstimatedSalary    0\n",
              "Exited             0\n",
              "dtype: int64"
            ]
          },
          "metadata": {},
          "execution_count": 7
        }
      ]
    },
    {
      "cell_type": "code",
      "source": [
        "df.duplicated().sum()"
      ],
      "metadata": {
        "colab": {
          "base_uri": "https://localhost:8080/"
        },
        "id": "lPVyo84JRDqy",
        "outputId": "38d95dcf-1fd3-457e-d79f-c72b7d845e01"
      },
      "execution_count": 8,
      "outputs": [
        {
          "output_type": "execute_result",
          "data": {
            "text/plain": [
              "0"
            ]
          },
          "metadata": {},
          "execution_count": 8
        }
      ]
    },
    {
      "cell_type": "code",
      "source": [
        "#drop unncessary columns\n",
        "data = df.drop(['RowNumber','CustomerId','Surname'],axis = 1)"
      ],
      "metadata": {
        "id": "-841f2AdRHzr"
      },
      "execution_count": 9,
      "outputs": []
    },
    {
      "cell_type": "code",
      "source": [
        "data.columns"
      ],
      "metadata": {
        "colab": {
          "base_uri": "https://localhost:8080/"
        },
        "id": "N1nzwa0FRf__",
        "outputId": "6267bdf6-f287-4c13-bd25-0a477c5917f7"
      },
      "execution_count": 11,
      "outputs": [
        {
          "output_type": "execute_result",
          "data": {
            "text/plain": [
              "Index(['CreditScore', 'Geography', 'Gender', 'Age', 'Tenure', 'Balance',\n",
              "       'NumOfProducts', 'HasCrCard', 'IsActiveMember', 'EstimatedSalary',\n",
              "       'Exited'],\n",
              "      dtype='object')"
            ]
          },
          "metadata": {},
          "execution_count": 11
        }
      ]
    },
    {
      "cell_type": "code",
      "source": [
        "#split the data and dummy variables\n",
        "X = data.drop('Exited',axis=1)\n",
        "y = data.Exited\n"
      ],
      "metadata": {
        "id": "coYlCpa3RhtX"
      },
      "execution_count": 15,
      "outputs": []
    },
    {
      "cell_type": "code",
      "source": [
        "X"
      ],
      "metadata": {
        "colab": {
          "base_uri": "https://localhost:8080/",
          "height": 424
        },
        "id": "OZi6lyPSR75V",
        "outputId": "055ab611-739a-43d6-ed81-31611bb54539"
      },
      "execution_count": 17,
      "outputs": [
        {
          "output_type": "execute_result",
          "data": {
            "text/plain": [
              "      CreditScore Geography  Gender  Age  Tenure    Balance  NumOfProducts  \\\n",
              "0             619    France  Female   42       2       0.00              1   \n",
              "1             608     Spain  Female   41       1   83807.86              1   \n",
              "2             502    France  Female   42       8  159660.80              3   \n",
              "3             699    France  Female   39       1       0.00              2   \n",
              "4             850     Spain  Female   43       2  125510.82              1   \n",
              "...           ...       ...     ...  ...     ...        ...            ...   \n",
              "9995          771    France    Male   39       5       0.00              2   \n",
              "9996          516    France    Male   35      10   57369.61              1   \n",
              "9997          709    France  Female   36       7       0.00              1   \n",
              "9998          772   Germany    Male   42       3   75075.31              2   \n",
              "9999          792    France  Female   28       4  130142.79              1   \n",
              "\n",
              "      HasCrCard  IsActiveMember  EstimatedSalary  \n",
              "0             1               1        101348.88  \n",
              "1             0               1        112542.58  \n",
              "2             1               0        113931.57  \n",
              "3             0               0         93826.63  \n",
              "4             1               1         79084.10  \n",
              "...         ...             ...              ...  \n",
              "9995          1               0         96270.64  \n",
              "9996          1               1        101699.77  \n",
              "9997          0               1         42085.58  \n",
              "9998          1               0         92888.52  \n",
              "9999          1               0         38190.78  \n",
              "\n",
              "[10000 rows x 10 columns]"
            ],
            "text/html": [
              "\n",
              "  <div id=\"df-23af652a-2e16-4073-ac6b-a25eef5eeb91\">\n",
              "    <div class=\"colab-df-container\">\n",
              "      <div>\n",
              "<style scoped>\n",
              "    .dataframe tbody tr th:only-of-type {\n",
              "        vertical-align: middle;\n",
              "    }\n",
              "\n",
              "    .dataframe tbody tr th {\n",
              "        vertical-align: top;\n",
              "    }\n",
              "\n",
              "    .dataframe thead th {\n",
              "        text-align: right;\n",
              "    }\n",
              "</style>\n",
              "<table border=\"1\" class=\"dataframe\">\n",
              "  <thead>\n",
              "    <tr style=\"text-align: right;\">\n",
              "      <th></th>\n",
              "      <th>CreditScore</th>\n",
              "      <th>Geography</th>\n",
              "      <th>Gender</th>\n",
              "      <th>Age</th>\n",
              "      <th>Tenure</th>\n",
              "      <th>Balance</th>\n",
              "      <th>NumOfProducts</th>\n",
              "      <th>HasCrCard</th>\n",
              "      <th>IsActiveMember</th>\n",
              "      <th>EstimatedSalary</th>\n",
              "    </tr>\n",
              "  </thead>\n",
              "  <tbody>\n",
              "    <tr>\n",
              "      <th>0</th>\n",
              "      <td>619</td>\n",
              "      <td>France</td>\n",
              "      <td>Female</td>\n",
              "      <td>42</td>\n",
              "      <td>2</td>\n",
              "      <td>0.00</td>\n",
              "      <td>1</td>\n",
              "      <td>1</td>\n",
              "      <td>1</td>\n",
              "      <td>101348.88</td>\n",
              "    </tr>\n",
              "    <tr>\n",
              "      <th>1</th>\n",
              "      <td>608</td>\n",
              "      <td>Spain</td>\n",
              "      <td>Female</td>\n",
              "      <td>41</td>\n",
              "      <td>1</td>\n",
              "      <td>83807.86</td>\n",
              "      <td>1</td>\n",
              "      <td>0</td>\n",
              "      <td>1</td>\n",
              "      <td>112542.58</td>\n",
              "    </tr>\n",
              "    <tr>\n",
              "      <th>2</th>\n",
              "      <td>502</td>\n",
              "      <td>France</td>\n",
              "      <td>Female</td>\n",
              "      <td>42</td>\n",
              "      <td>8</td>\n",
              "      <td>159660.80</td>\n",
              "      <td>3</td>\n",
              "      <td>1</td>\n",
              "      <td>0</td>\n",
              "      <td>113931.57</td>\n",
              "    </tr>\n",
              "    <tr>\n",
              "      <th>3</th>\n",
              "      <td>699</td>\n",
              "      <td>France</td>\n",
              "      <td>Female</td>\n",
              "      <td>39</td>\n",
              "      <td>1</td>\n",
              "      <td>0.00</td>\n",
              "      <td>2</td>\n",
              "      <td>0</td>\n",
              "      <td>0</td>\n",
              "      <td>93826.63</td>\n",
              "    </tr>\n",
              "    <tr>\n",
              "      <th>4</th>\n",
              "      <td>850</td>\n",
              "      <td>Spain</td>\n",
              "      <td>Female</td>\n",
              "      <td>43</td>\n",
              "      <td>2</td>\n",
              "      <td>125510.82</td>\n",
              "      <td>1</td>\n",
              "      <td>1</td>\n",
              "      <td>1</td>\n",
              "      <td>79084.10</td>\n",
              "    </tr>\n",
              "    <tr>\n",
              "      <th>...</th>\n",
              "      <td>...</td>\n",
              "      <td>...</td>\n",
              "      <td>...</td>\n",
              "      <td>...</td>\n",
              "      <td>...</td>\n",
              "      <td>...</td>\n",
              "      <td>...</td>\n",
              "      <td>...</td>\n",
              "      <td>...</td>\n",
              "      <td>...</td>\n",
              "    </tr>\n",
              "    <tr>\n",
              "      <th>9995</th>\n",
              "      <td>771</td>\n",
              "      <td>France</td>\n",
              "      <td>Male</td>\n",
              "      <td>39</td>\n",
              "      <td>5</td>\n",
              "      <td>0.00</td>\n",
              "      <td>2</td>\n",
              "      <td>1</td>\n",
              "      <td>0</td>\n",
              "      <td>96270.64</td>\n",
              "    </tr>\n",
              "    <tr>\n",
              "      <th>9996</th>\n",
              "      <td>516</td>\n",
              "      <td>France</td>\n",
              "      <td>Male</td>\n",
              "      <td>35</td>\n",
              "      <td>10</td>\n",
              "      <td>57369.61</td>\n",
              "      <td>1</td>\n",
              "      <td>1</td>\n",
              "      <td>1</td>\n",
              "      <td>101699.77</td>\n",
              "    </tr>\n",
              "    <tr>\n",
              "      <th>9997</th>\n",
              "      <td>709</td>\n",
              "      <td>France</td>\n",
              "      <td>Female</td>\n",
              "      <td>36</td>\n",
              "      <td>7</td>\n",
              "      <td>0.00</td>\n",
              "      <td>1</td>\n",
              "      <td>0</td>\n",
              "      <td>1</td>\n",
              "      <td>42085.58</td>\n",
              "    </tr>\n",
              "    <tr>\n",
              "      <th>9998</th>\n",
              "      <td>772</td>\n",
              "      <td>Germany</td>\n",
              "      <td>Male</td>\n",
              "      <td>42</td>\n",
              "      <td>3</td>\n",
              "      <td>75075.31</td>\n",
              "      <td>2</td>\n",
              "      <td>1</td>\n",
              "      <td>0</td>\n",
              "      <td>92888.52</td>\n",
              "    </tr>\n",
              "    <tr>\n",
              "      <th>9999</th>\n",
              "      <td>792</td>\n",
              "      <td>France</td>\n",
              "      <td>Female</td>\n",
              "      <td>28</td>\n",
              "      <td>4</td>\n",
              "      <td>130142.79</td>\n",
              "      <td>1</td>\n",
              "      <td>1</td>\n",
              "      <td>0</td>\n",
              "      <td>38190.78</td>\n",
              "    </tr>\n",
              "  </tbody>\n",
              "</table>\n",
              "<p>10000 rows × 10 columns</p>\n",
              "</div>\n",
              "      <button class=\"colab-df-convert\" onclick=\"convertToInteractive('df-23af652a-2e16-4073-ac6b-a25eef5eeb91')\"\n",
              "              title=\"Convert this dataframe to an interactive table.\"\n",
              "              style=\"display:none;\">\n",
              "        \n",
              "  <svg xmlns=\"http://www.w3.org/2000/svg\" height=\"24px\"viewBox=\"0 0 24 24\"\n",
              "       width=\"24px\">\n",
              "    <path d=\"M0 0h24v24H0V0z\" fill=\"none\"/>\n",
              "    <path d=\"M18.56 5.44l.94 2.06.94-2.06 2.06-.94-2.06-.94-.94-2.06-.94 2.06-2.06.94zm-11 1L8.5 8.5l.94-2.06 2.06-.94-2.06-.94L8.5 2.5l-.94 2.06-2.06.94zm10 10l.94 2.06.94-2.06 2.06-.94-2.06-.94-.94-2.06-.94 2.06-2.06.94z\"/><path d=\"M17.41 7.96l-1.37-1.37c-.4-.4-.92-.59-1.43-.59-.52 0-1.04.2-1.43.59L10.3 9.45l-7.72 7.72c-.78.78-.78 2.05 0 2.83L4 21.41c.39.39.9.59 1.41.59.51 0 1.02-.2 1.41-.59l7.78-7.78 2.81-2.81c.8-.78.8-2.07 0-2.86zM5.41 20L4 18.59l7.72-7.72 1.47 1.35L5.41 20z\"/>\n",
              "  </svg>\n",
              "      </button>\n",
              "      \n",
              "  <style>\n",
              "    .colab-df-container {\n",
              "      display:flex;\n",
              "      flex-wrap:wrap;\n",
              "      gap: 12px;\n",
              "    }\n",
              "\n",
              "    .colab-df-convert {\n",
              "      background-color: #E8F0FE;\n",
              "      border: none;\n",
              "      border-radius: 50%;\n",
              "      cursor: pointer;\n",
              "      display: none;\n",
              "      fill: #1967D2;\n",
              "      height: 32px;\n",
              "      padding: 0 0 0 0;\n",
              "      width: 32px;\n",
              "    }\n",
              "\n",
              "    .colab-df-convert:hover {\n",
              "      background-color: #E2EBFA;\n",
              "      box-shadow: 0px 1px 2px rgba(60, 64, 67, 0.3), 0px 1px 3px 1px rgba(60, 64, 67, 0.15);\n",
              "      fill: #174EA6;\n",
              "    }\n",
              "\n",
              "    [theme=dark] .colab-df-convert {\n",
              "      background-color: #3B4455;\n",
              "      fill: #D2E3FC;\n",
              "    }\n",
              "\n",
              "    [theme=dark] .colab-df-convert:hover {\n",
              "      background-color: #434B5C;\n",
              "      box-shadow: 0px 1px 3px 1px rgba(0, 0, 0, 0.15);\n",
              "      filter: drop-shadow(0px 1px 2px rgba(0, 0, 0, 0.3));\n",
              "      fill: #FFFFFF;\n",
              "    }\n",
              "  </style>\n",
              "\n",
              "      <script>\n",
              "        const buttonEl =\n",
              "          document.querySelector('#df-23af652a-2e16-4073-ac6b-a25eef5eeb91 button.colab-df-convert');\n",
              "        buttonEl.style.display =\n",
              "          google.colab.kernel.accessAllowed ? 'block' : 'none';\n",
              "\n",
              "        async function convertToInteractive(key) {\n",
              "          const element = document.querySelector('#df-23af652a-2e16-4073-ac6b-a25eef5eeb91');\n",
              "          const dataTable =\n",
              "            await google.colab.kernel.invokeFunction('convertToInteractive',\n",
              "                                                     [key], {});\n",
              "          if (!dataTable) return;\n",
              "\n",
              "          const docLinkHtml = 'Like what you see? Visit the ' +\n",
              "            '<a target=\"_blank\" href=https://colab.research.google.com/notebooks/data_table.ipynb>data table notebook</a>'\n",
              "            + ' to learn more about interactive tables.';\n",
              "          element.innerHTML = '';\n",
              "          dataTable['output_type'] = 'display_data';\n",
              "          await google.colab.output.renderOutput(dataTable, element);\n",
              "          const docLink = document.createElement('div');\n",
              "          docLink.innerHTML = docLinkHtml;\n",
              "          element.appendChild(docLink);\n",
              "        }\n",
              "      </script>\n",
              "    </div>\n",
              "  </div>\n",
              "  "
            ]
          },
          "metadata": {},
          "execution_count": 17
        }
      ]
    },
    {
      "cell_type": "code",
      "source": [
        "#Create dummy variables\n",
        "geography=pd.get_dummies(X[\"Geography\"],drop_first=True)\n",
        "gender=pd.get_dummies(X['Gender'],drop_first=True)\n"
      ],
      "metadata": {
        "id": "VSHDrZtaSo3w"
      },
      "execution_count": 18,
      "outputs": []
    },
    {
      "cell_type": "code",
      "source": [
        "\n",
        "X=pd.concat([X,geography,gender],axis=1)"
      ],
      "metadata": {
        "id": "KrtN5aRiSx9a"
      },
      "execution_count": 19,
      "outputs": []
    },
    {
      "cell_type": "code",
      "source": [
        "## Drop Unnecessary columns\n",
        "X=X.drop(['Geography','Gender'],axis=1)"
      ],
      "metadata": {
        "id": "oD2zS9fbS04A"
      },
      "execution_count": 20,
      "outputs": []
    },
    {
      "cell_type": "code",
      "source": [
        "# Splitting the dataset into the Training set and Test set\n",
        "from sklearn.model_selection import train_test_split\n",
        "X_train, X_test, y_train, y_test = train_test_split(X, y, test_size = 0.2, random_state = 0)"
      ],
      "metadata": {
        "id": "_TxhyfQTS3G4"
      },
      "execution_count": 21,
      "outputs": []
    },
    {
      "cell_type": "code",
      "source": [
        "# Feature Scaling\n",
        "from sklearn.preprocessing import StandardScaler\n",
        "sc = StandardScaler()\n",
        "X_train = sc.fit_transform(X_train)\n",
        "X_test = sc.transform(X_test)"
      ],
      "metadata": {
        "id": "UTYn5uh2S56A"
      },
      "execution_count": 22,
      "outputs": []
    },
    {
      "cell_type": "code",
      "source": [
        "#ANN\n",
        "import keras\n",
        "from keras.models import Sequential\n",
        "from keras.layers import Dense\n",
        "from keras.layers import Dropout"
      ],
      "metadata": {
        "id": "TL0MrP7GS8H9"
      },
      "execution_count": 23,
      "outputs": []
    },
    {
      "cell_type": "code",
      "source": [
        "#initialing ann\n",
        "classifier = Sequential()"
      ],
      "metadata": {
        "id": "zMsFN6g1TwGr"
      },
      "execution_count": 24,
      "outputs": []
    },
    {
      "cell_type": "code",
      "source": [
        "classifier.add(Dense(units = 6,kernel_initializer='he_uniform', activation = 'relu',input_dim = 11))\n",
        "classifier.add(Dropout(0.3))"
      ],
      "metadata": {
        "id": "ArZBdmyqT1my"
      },
      "execution_count": 28,
      "outputs": []
    },
    {
      "cell_type": "code",
      "source": [
        "classifier.add(Dense(units = 6,kernel_initializer='he_uniform', activation = 'relu',input_dim = 11))\n",
        "classifier.add(Dropout(0.2))"
      ],
      "metadata": {
        "id": "V6pXrJy3UGx4"
      },
      "execution_count": 29,
      "outputs": []
    },
    {
      "cell_type": "code",
      "source": [
        "classifier.add(Dense(units =1,kernel_initializer='glorot_uniform',activation = 'sigmoid'))\n",
        "classifier.add(Dropout(0.1))"
      ],
      "metadata": {
        "id": "Cu9PWMV1Uqli"
      },
      "execution_count": 30,
      "outputs": []
    },
    {
      "cell_type": "code",
      "source": [
        "#compling the ann"
      ],
      "metadata": {
        "id": "CGpbuJrtU_eJ"
      },
      "execution_count": 31,
      "outputs": []
    },
    {
      "cell_type": "code",
      "source": [
        "classifier.compile(optimizer = 'adam', loss = 'binary_crossentropy',metrics = ['accuracy'])"
      ],
      "metadata": {
        "id": "U0sH3qcCVCvk"
      },
      "execution_count": 32,
      "outputs": []
    },
    {
      "cell_type": "code",
      "source": [
        "#fittinh into training set\n"
      ],
      "metadata": {
        "id": "i8BdhGDVVRUz"
      },
      "execution_count": 33,
      "outputs": []
    },
    {
      "cell_type": "code",
      "source": [
        "model = classifier.fit(X_train,y_train,validation_split=0.22,batch_size = 10, epochs = 100)"
      ],
      "metadata": {
        "colab": {
          "base_uri": "https://localhost:8080/"
        },
        "id": "U486VjYdVXGc",
        "outputId": "51dfbbcd-bd40-41a7-b702-6ac2a5f0b8d2"
      },
      "execution_count": 41,
      "outputs": [
        {
          "output_type": "stream",
          "name": "stdout",
          "text": [
            "Epoch 1/100\n",
            "624/624 [==============================] - 5s 3ms/step - loss: 1.1601 - accuracy: 0.6245 - val_loss: 0.5169 - val_accuracy: 0.7989\n",
            "Epoch 2/100\n",
            "624/624 [==============================] - 2s 3ms/step - loss: 0.7702 - accuracy: 0.7736 - val_loss: 0.5011 - val_accuracy: 0.7989\n",
            "Epoch 3/100\n",
            "624/624 [==============================] - 2s 3ms/step - loss: 0.7729 - accuracy: 0.7929 - val_loss: 0.4947 - val_accuracy: 0.7989\n",
            "Epoch 4/100\n",
            "624/624 [==============================] - 2s 3ms/step - loss: 0.7917 - accuracy: 0.7946 - val_loss: 0.4913 - val_accuracy: 0.7989\n",
            "Epoch 5/100\n",
            "624/624 [==============================] - 2s 3ms/step - loss: 0.7836 - accuracy: 0.7941 - val_loss: 0.4808 - val_accuracy: 0.7989\n",
            "Epoch 6/100\n",
            "624/624 [==============================] - 2s 2ms/step - loss: 0.7574 - accuracy: 0.7957 - val_loss: 0.4786 - val_accuracy: 0.7989\n",
            "Epoch 7/100\n",
            "624/624 [==============================] - 2s 3ms/step - loss: 0.7100 - accuracy: 0.7989 - val_loss: 0.4642 - val_accuracy: 0.7994\n",
            "Epoch 8/100\n",
            "624/624 [==============================] - 1s 2ms/step - loss: 0.7574 - accuracy: 0.7981 - val_loss: 0.4645 - val_accuracy: 0.7994\n",
            "Epoch 9/100\n",
            "624/624 [==============================] - 2s 3ms/step - loss: 0.7598 - accuracy: 0.8002 - val_loss: 0.4443 - val_accuracy: 0.8074\n",
            "Epoch 10/100\n",
            "624/624 [==============================] - 1s 2ms/step - loss: 0.7284 - accuracy: 0.8032 - val_loss: 0.4301 - val_accuracy: 0.8074\n",
            "Epoch 11/100\n",
            "624/624 [==============================] - 1s 2ms/step - loss: 0.7059 - accuracy: 0.8123 - val_loss: 0.4273 - val_accuracy: 0.8097\n",
            "Epoch 12/100\n",
            "624/624 [==============================] - 1s 2ms/step - loss: 0.7256 - accuracy: 0.8120 - val_loss: 0.4170 - val_accuracy: 0.8131\n",
            "Epoch 13/100\n",
            "624/624 [==============================] - 2s 3ms/step - loss: 0.7242 - accuracy: 0.8122 - val_loss: 0.4077 - val_accuracy: 0.8239\n",
            "Epoch 14/100\n",
            "624/624 [==============================] - 1s 2ms/step - loss: 0.7139 - accuracy: 0.8171 - val_loss: 0.4114 - val_accuracy: 0.8136\n",
            "Epoch 15/100\n",
            "624/624 [==============================] - 1s 2ms/step - loss: 0.6886 - accuracy: 0.8157 - val_loss: 0.4070 - val_accuracy: 0.8170\n",
            "Epoch 16/100\n",
            "624/624 [==============================] - 2s 3ms/step - loss: 0.7076 - accuracy: 0.8215 - val_loss: 0.3996 - val_accuracy: 0.8273\n",
            "Epoch 17/100\n",
            "624/624 [==============================] - 1s 2ms/step - loss: 0.6875 - accuracy: 0.8213 - val_loss: 0.4030 - val_accuracy: 0.8176\n",
            "Epoch 18/100\n",
            "624/624 [==============================] - 1s 2ms/step - loss: 0.7015 - accuracy: 0.8228 - val_loss: 0.3891 - val_accuracy: 0.8324\n",
            "Epoch 19/100\n",
            "624/624 [==============================] - 2s 3ms/step - loss: 0.6652 - accuracy: 0.8285 - val_loss: 0.3886 - val_accuracy: 0.8290\n",
            "Epoch 20/100\n",
            "624/624 [==============================] - 2s 2ms/step - loss: 0.6840 - accuracy: 0.8234 - val_loss: 0.4012 - val_accuracy: 0.8193\n",
            "Epoch 21/100\n",
            "624/624 [==============================] - 1s 2ms/step - loss: 0.7252 - accuracy: 0.8255 - val_loss: 0.4092 - val_accuracy: 0.8188\n",
            "Epoch 22/100\n",
            "624/624 [==============================] - 2s 2ms/step - loss: 0.6973 - accuracy: 0.8229 - val_loss: 0.3935 - val_accuracy: 0.8227\n",
            "Epoch 23/100\n",
            "624/624 [==============================] - 2s 3ms/step - loss: 0.6984 - accuracy: 0.8292 - val_loss: 0.3937 - val_accuracy: 0.8205\n",
            "Epoch 24/100\n",
            "624/624 [==============================] - 2s 3ms/step - loss: 0.6869 - accuracy: 0.8202 - val_loss: 0.3874 - val_accuracy: 0.8261\n",
            "Epoch 25/100\n",
            "624/624 [==============================] - 2s 3ms/step - loss: 0.6989 - accuracy: 0.8191 - val_loss: 0.3850 - val_accuracy: 0.8330\n",
            "Epoch 26/100\n",
            "624/624 [==============================] - 2s 3ms/step - loss: 0.7177 - accuracy: 0.8256 - val_loss: 0.3833 - val_accuracy: 0.8330\n",
            "Epoch 27/100\n",
            "624/624 [==============================] - 1s 2ms/step - loss: 0.6651 - accuracy: 0.8285 - val_loss: 0.3862 - val_accuracy: 0.8313\n",
            "Epoch 28/100\n",
            "624/624 [==============================] - 2s 2ms/step - loss: 0.6746 - accuracy: 0.8308 - val_loss: 0.3939 - val_accuracy: 0.8267\n",
            "Epoch 29/100\n",
            "624/624 [==============================] - 2s 3ms/step - loss: 0.6639 - accuracy: 0.8309 - val_loss: 0.3769 - val_accuracy: 0.8483\n",
            "Epoch 30/100\n",
            "624/624 [==============================] - 2s 3ms/step - loss: 0.6986 - accuracy: 0.8311 - val_loss: 0.3799 - val_accuracy: 0.8403\n",
            "Epoch 31/100\n",
            "624/624 [==============================] - 2s 3ms/step - loss: 0.6579 - accuracy: 0.8330 - val_loss: 0.3831 - val_accuracy: 0.8358\n",
            "Epoch 32/100\n",
            "624/624 [==============================] - 2s 3ms/step - loss: 0.7219 - accuracy: 0.8308 - val_loss: 0.3876 - val_accuracy: 0.8290\n",
            "Epoch 33/100\n",
            "624/624 [==============================] - 2s 3ms/step - loss: 0.6871 - accuracy: 0.8369 - val_loss: 0.3806 - val_accuracy: 0.8398\n",
            "Epoch 34/100\n",
            "624/624 [==============================] - 2s 3ms/step - loss: 0.6794 - accuracy: 0.8335 - val_loss: 0.3823 - val_accuracy: 0.8324\n",
            "Epoch 35/100\n",
            "624/624 [==============================] - 2s 3ms/step - loss: 0.6665 - accuracy: 0.8354 - val_loss: 0.3758 - val_accuracy: 0.8398\n",
            "Epoch 36/100\n",
            "624/624 [==============================] - 2s 3ms/step - loss: 0.6595 - accuracy: 0.8346 - val_loss: 0.3791 - val_accuracy: 0.8341\n",
            "Epoch 37/100\n",
            "624/624 [==============================] - 2s 2ms/step - loss: 0.6808 - accuracy: 0.8353 - val_loss: 0.3780 - val_accuracy: 0.8375\n",
            "Epoch 38/100\n",
            "624/624 [==============================] - 2s 3ms/step - loss: 0.7136 - accuracy: 0.8341 - val_loss: 0.3750 - val_accuracy: 0.8409\n",
            "Epoch 39/100\n",
            "624/624 [==============================] - 2s 3ms/step - loss: 0.6778 - accuracy: 0.8321 - val_loss: 0.3761 - val_accuracy: 0.8415\n",
            "Epoch 40/100\n",
            "624/624 [==============================] - 2s 2ms/step - loss: 0.6479 - accuracy: 0.8396 - val_loss: 0.3753 - val_accuracy: 0.8438\n",
            "Epoch 41/100\n",
            "624/624 [==============================] - 1s 2ms/step - loss: 0.6967 - accuracy: 0.8375 - val_loss: 0.3853 - val_accuracy: 0.8324\n",
            "Epoch 42/100\n",
            "624/624 [==============================] - 2s 3ms/step - loss: 0.7092 - accuracy: 0.8349 - val_loss: 0.3819 - val_accuracy: 0.8352\n",
            "Epoch 43/100\n",
            "624/624 [==============================] - 2s 3ms/step - loss: 0.6965 - accuracy: 0.8322 - val_loss: 0.3900 - val_accuracy: 0.8284\n",
            "Epoch 44/100\n",
            "624/624 [==============================] - 2s 2ms/step - loss: 0.6680 - accuracy: 0.8394 - val_loss: 0.3794 - val_accuracy: 0.8358\n",
            "Epoch 45/100\n",
            "624/624 [==============================] - 1s 2ms/step - loss: 0.6599 - accuracy: 0.8415 - val_loss: 0.3759 - val_accuracy: 0.8381\n",
            "Epoch 46/100\n",
            "624/624 [==============================] - 1s 2ms/step - loss: 0.6598 - accuracy: 0.8393 - val_loss: 0.3720 - val_accuracy: 0.8426\n",
            "Epoch 47/100\n",
            "624/624 [==============================] - 1s 2ms/step - loss: 0.7191 - accuracy: 0.8420 - val_loss: 0.3847 - val_accuracy: 0.8335\n",
            "Epoch 48/100\n",
            "624/624 [==============================] - 2s 3ms/step - loss: 0.6760 - accuracy: 0.8386 - val_loss: 0.3788 - val_accuracy: 0.8352\n",
            "Epoch 49/100\n",
            "624/624 [==============================] - 2s 2ms/step - loss: 0.6419 - accuracy: 0.8396 - val_loss: 0.3757 - val_accuracy: 0.8403\n",
            "Epoch 50/100\n",
            "624/624 [==============================] - 2s 2ms/step - loss: 0.6250 - accuracy: 0.8391 - val_loss: 0.3740 - val_accuracy: 0.8398\n",
            "Epoch 51/100\n",
            "624/624 [==============================] - 2s 3ms/step - loss: 0.6423 - accuracy: 0.8372 - val_loss: 0.3709 - val_accuracy: 0.8443\n",
            "Epoch 52/100\n",
            "624/624 [==============================] - 2s 2ms/step - loss: 0.6616 - accuracy: 0.8412 - val_loss: 0.3711 - val_accuracy: 0.8466\n",
            "Epoch 53/100\n",
            "624/624 [==============================] - 1s 2ms/step - loss: 0.6755 - accuracy: 0.8397 - val_loss: 0.3764 - val_accuracy: 0.8392\n",
            "Epoch 54/100\n",
            "624/624 [==============================] - 2s 2ms/step - loss: 0.7010 - accuracy: 0.8428 - val_loss: 0.3801 - val_accuracy: 0.8364\n",
            "Epoch 55/100\n",
            "624/624 [==============================] - 1s 2ms/step - loss: 0.6658 - accuracy: 0.8373 - val_loss: 0.3759 - val_accuracy: 0.8375\n",
            "Epoch 56/100\n",
            "624/624 [==============================] - 2s 3ms/step - loss: 0.6577 - accuracy: 0.8429 - val_loss: 0.3650 - val_accuracy: 0.8511\n",
            "Epoch 57/100\n",
            "624/624 [==============================] - 2s 3ms/step - loss: 0.6495 - accuracy: 0.8381 - val_loss: 0.3743 - val_accuracy: 0.8403\n",
            "Epoch 58/100\n",
            "624/624 [==============================] - 1s 2ms/step - loss: 0.6615 - accuracy: 0.8415 - val_loss: 0.3724 - val_accuracy: 0.8426\n",
            "Epoch 59/100\n",
            "624/624 [==============================] - 2s 3ms/step - loss: 0.6771 - accuracy: 0.8455 - val_loss: 0.3758 - val_accuracy: 0.8369\n",
            "Epoch 60/100\n",
            "624/624 [==============================] - 2s 2ms/step - loss: 0.6325 - accuracy: 0.8413 - val_loss: 0.3700 - val_accuracy: 0.8432\n",
            "Epoch 61/100\n",
            "624/624 [==============================] - 2s 3ms/step - loss: 0.6501 - accuracy: 0.8405 - val_loss: 0.3792 - val_accuracy: 0.8375\n",
            "Epoch 62/100\n",
            "624/624 [==============================] - 1s 2ms/step - loss: 0.6538 - accuracy: 0.8452 - val_loss: 0.3744 - val_accuracy: 0.8352\n",
            "Epoch 63/100\n",
            "624/624 [==============================] - 2s 4ms/step - loss: 0.6769 - accuracy: 0.8429 - val_loss: 0.3772 - val_accuracy: 0.8335\n",
            "Epoch 64/100\n",
            "624/624 [==============================] - 2s 3ms/step - loss: 0.6803 - accuracy: 0.8442 - val_loss: 0.3741 - val_accuracy: 0.8341\n",
            "Epoch 65/100\n",
            "624/624 [==============================] - 2s 3ms/step - loss: 0.6377 - accuracy: 0.8431 - val_loss: 0.3718 - val_accuracy: 0.8420\n",
            "Epoch 66/100\n",
            "624/624 [==============================] - 2s 4ms/step - loss: 0.7053 - accuracy: 0.8389 - val_loss: 0.3857 - val_accuracy: 0.8290\n",
            "Epoch 67/100\n",
            "624/624 [==============================] - 2s 3ms/step - loss: 0.6838 - accuracy: 0.8385 - val_loss: 0.3752 - val_accuracy: 0.8364\n",
            "Epoch 68/100\n",
            "624/624 [==============================] - 1s 2ms/step - loss: 0.6856 - accuracy: 0.8378 - val_loss: 0.3830 - val_accuracy: 0.8313\n",
            "Epoch 69/100\n",
            "624/624 [==============================] - 2s 3ms/step - loss: 0.6801 - accuracy: 0.8378 - val_loss: 0.3768 - val_accuracy: 0.8330\n",
            "Epoch 70/100\n",
            "624/624 [==============================] - 2s 2ms/step - loss: 0.6706 - accuracy: 0.8343 - val_loss: 0.3907 - val_accuracy: 0.8239\n",
            "Epoch 71/100\n",
            "624/624 [==============================] - 1s 2ms/step - loss: 0.6459 - accuracy: 0.8348 - val_loss: 0.3800 - val_accuracy: 0.8295\n",
            "Epoch 72/100\n",
            "624/624 [==============================] - 2s 3ms/step - loss: 0.6691 - accuracy: 0.8354 - val_loss: 0.3756 - val_accuracy: 0.8335\n",
            "Epoch 73/100\n",
            "624/624 [==============================] - 1s 2ms/step - loss: 0.7304 - accuracy: 0.8357 - val_loss: 0.3751 - val_accuracy: 0.8347\n",
            "Epoch 74/100\n",
            "624/624 [==============================] - 2s 3ms/step - loss: 0.6344 - accuracy: 0.8383 - val_loss: 0.3754 - val_accuracy: 0.8318\n",
            "Epoch 75/100\n",
            "624/624 [==============================] - 2s 3ms/step - loss: 0.6692 - accuracy: 0.8410 - val_loss: 0.3701 - val_accuracy: 0.8347\n",
            "Epoch 76/100\n",
            "624/624 [==============================] - 2s 2ms/step - loss: 0.6641 - accuracy: 0.8362 - val_loss: 0.3724 - val_accuracy: 0.8341\n",
            "Epoch 77/100\n",
            "624/624 [==============================] - 2s 3ms/step - loss: 0.6602 - accuracy: 0.8457 - val_loss: 0.3719 - val_accuracy: 0.8358\n",
            "Epoch 78/100\n",
            "624/624 [==============================] - 2s 3ms/step - loss: 0.6905 - accuracy: 0.8439 - val_loss: 0.3692 - val_accuracy: 0.8381\n",
            "Epoch 79/100\n",
            "624/624 [==============================] - 2s 2ms/step - loss: 0.6871 - accuracy: 0.8429 - val_loss: 0.3711 - val_accuracy: 0.8375\n",
            "Epoch 80/100\n",
            "624/624 [==============================] - 2s 2ms/step - loss: 0.6294 - accuracy: 0.8438 - val_loss: 0.3724 - val_accuracy: 0.8375\n",
            "Epoch 81/100\n",
            "624/624 [==============================] - 2s 3ms/step - loss: 0.6626 - accuracy: 0.8452 - val_loss: 0.3703 - val_accuracy: 0.8449\n",
            "Epoch 82/100\n",
            "624/624 [==============================] - 2s 3ms/step - loss: 0.6524 - accuracy: 0.8484 - val_loss: 0.3667 - val_accuracy: 0.8472\n",
            "Epoch 83/100\n",
            "624/624 [==============================] - 2s 2ms/step - loss: 0.7038 - accuracy: 0.8370 - val_loss: 0.3888 - val_accuracy: 0.8284\n",
            "Epoch 84/100\n",
            "624/624 [==============================] - 2s 3ms/step - loss: 0.6346 - accuracy: 0.8386 - val_loss: 0.3795 - val_accuracy: 0.8307\n",
            "Epoch 85/100\n",
            "624/624 [==============================] - 2s 3ms/step - loss: 0.6669 - accuracy: 0.8418 - val_loss: 0.3770 - val_accuracy: 0.8335\n",
            "Epoch 86/100\n",
            "624/624 [==============================] - 2s 3ms/step - loss: 0.6659 - accuracy: 0.8393 - val_loss: 0.3730 - val_accuracy: 0.8330\n",
            "Epoch 87/100\n",
            "624/624 [==============================] - 1s 2ms/step - loss: 0.6337 - accuracy: 0.8407 - val_loss: 0.3749 - val_accuracy: 0.8352\n",
            "Epoch 88/100\n",
            "624/624 [==============================] - 2s 3ms/step - loss: 0.6181 - accuracy: 0.8415 - val_loss: 0.3768 - val_accuracy: 0.8307\n",
            "Epoch 89/100\n",
            "624/624 [==============================] - 2s 3ms/step - loss: 0.6985 - accuracy: 0.8325 - val_loss: 0.3826 - val_accuracy: 0.8318\n",
            "Epoch 90/100\n",
            "624/624 [==============================] - 2s 3ms/step - loss: 0.6555 - accuracy: 0.8401 - val_loss: 0.3734 - val_accuracy: 0.8358\n",
            "Epoch 91/100\n",
            "624/624 [==============================] - 2s 3ms/step - loss: 0.6828 - accuracy: 0.8428 - val_loss: 0.3730 - val_accuracy: 0.8369\n",
            "Epoch 92/100\n",
            "624/624 [==============================] - 1s 2ms/step - loss: 0.6379 - accuracy: 0.8399 - val_loss: 0.3709 - val_accuracy: 0.8381\n",
            "Epoch 93/100\n",
            "624/624 [==============================] - 1s 2ms/step - loss: 0.6306 - accuracy: 0.8421 - val_loss: 0.3703 - val_accuracy: 0.8392\n",
            "Epoch 94/100\n",
            "624/624 [==============================] - 2s 3ms/step - loss: 0.6306 - accuracy: 0.8401 - val_loss: 0.3758 - val_accuracy: 0.8301\n",
            "Epoch 95/100\n",
            "624/624 [==============================] - 2s 3ms/step - loss: 0.6621 - accuracy: 0.8417 - val_loss: 0.3721 - val_accuracy: 0.8375\n",
            "Epoch 96/100\n",
            "624/624 [==============================] - 2s 3ms/step - loss: 0.6403 - accuracy: 0.8378 - val_loss: 0.3785 - val_accuracy: 0.8261\n",
            "Epoch 97/100\n",
            "624/624 [==============================] - 2s 3ms/step - loss: 0.6574 - accuracy: 0.8407 - val_loss: 0.3749 - val_accuracy: 0.8295\n",
            "Epoch 98/100\n",
            "624/624 [==============================] - 2s 3ms/step - loss: 0.6450 - accuracy: 0.8378 - val_loss: 0.3733 - val_accuracy: 0.8324\n",
            "Epoch 99/100\n",
            "624/624 [==============================] - 2s 3ms/step - loss: 0.6373 - accuracy: 0.8425 - val_loss: 0.3739 - val_accuracy: 0.8364\n",
            "Epoch 100/100\n",
            "624/624 [==============================] - 2s 3ms/step - loss: 0.6707 - accuracy: 0.8325 - val_loss: 0.3796 - val_accuracy: 0.8284\n"
          ]
        }
      ]
    },
    {
      "cell_type": "code",
      "source": [
        "# list all data in history\n",
        "\n",
        "print(model.history.keys())"
      ],
      "metadata": {
        "colab": {
          "base_uri": "https://localhost:8080/"
        },
        "id": "yRxFPycXVogS",
        "outputId": "f38b5b3f-8227-42df-d3b1-b73bc4865093"
      },
      "execution_count": 43,
      "outputs": [
        {
          "output_type": "stream",
          "name": "stdout",
          "text": [
            "dict_keys(['loss', 'accuracy', 'val_loss', 'val_accuracy'])\n"
          ]
        }
      ]
    },
    {
      "cell_type": "code",
      "source": [
        "import matplotlib.pyplot as plt\n",
        "%matplotlib inline"
      ],
      "metadata": {
        "id": "JWOn9iuXW-tx"
      },
      "execution_count": 44,
      "outputs": []
    },
    {
      "cell_type": "code",
      "source": [
        "# summarize history for accuracy\n",
        "plt.plot(model.history['accuracy'])\n",
        "plt.plot(model.history['val_accuracy'])\n",
        "plt.title('model accuracy')\n",
        "plt.ylabel('accuracy')\n",
        "plt.xlabel('epoch')\n",
        "plt.legend(['train', 'test'], loc='upper left')\n",
        "plt.show()"
      ],
      "metadata": {
        "colab": {
          "base_uri": "https://localhost:8080/",
          "height": 295
        },
        "id": "8CFEFTeaXIqi",
        "outputId": "257939d1-82ea-4848-bf40-14cfe037596e"
      },
      "execution_count": 48,
      "outputs": [
        {
          "output_type": "display_data",
          "data": {
            "text/plain": [
              "<Figure size 432x288 with 1 Axes>"
            ],
            "image/png": "[encoded data removed]"
          },
          "metadata": {
            "needs_background": "light"
          }
        }
      ]
    },
    {
      "cell_type": "code",
      "source": [
        "# summarize history for loss\n",
        "plt.plot(model.history['loss'])\n",
        "plt.plot(model.history['val_loss'])\n",
        "plt.title('model loss')\n",
        "plt.ylabel('loss')\n",
        "plt.xlabel('epoch')\n",
        "plt.legend(['train', 'test'], loc='upper left')\n",
        "plt.show()"
      ],
      "metadata": {
        "colab": {
          "base_uri": "https://localhost:8080/",
          "height": 295
        },
        "id": "dPEEs0RFXNJ2",
        "outputId": "4dd75ace-0ee0-4662-993d-cc7d1dafee3a"
      },
      "execution_count": 49,
      "outputs": [
        {
          "output_type": "display_data",
          "data": {
            "text/plain": [
              "<Figure size 432x288 with 1 Axes>"
            ],
            "image/png": "[encoded data removed]"
          },
          "metadata": {
            "needs_background": "light"
          }
        }
      ]
    },
    {
      "cell_type": "code",
      "source": [
        "# Predicting the Test set results\n",
        "y_pred = classifier.predict(X_test)\n",
        "y_pred = (y_pred > 0.5)"
      ],
      "metadata": {
        "id": "x-f34C6pXjb0"
      },
      "execution_count": 50,
      "outputs": []
    },
    {
      "cell_type": "code",
      "source": [
        "# Making the Confusion Matrix\n",
        "from sklearn.metrics import confusion_matrix\n",
        "cm = confusion_matrix(y_test, y_pred)"
      ],
      "metadata": {
        "id": "_ftMZBpSXrSn"
      },
      "execution_count": 51,
      "outputs": []
    },
    {
      "cell_type": "code",
      "source": [
        "# Calculate the Accuracy\n",
        "from sklearn.metrics import accuracy_score\n",
        "score=accuracy_score(y_pred,y_test)"
      ],
      "metadata": {
        "id": "5ayCY3wYXui-"
      },
      "execution_count": 52,
      "outputs": []
    },
    {
      "cell_type": "code",
      "source": [
        "score"
      ],
      "metadata": {
        "colab": {
          "base_uri": "https://localhost:8080/"
        },
        "id": "w03HRxcuXxLk",
        "outputId": "79203eb1-33b4-4312-cfe2-7b877815e681"
      },
      "execution_count": 53,
      "outputs": [
        {
          "output_type": "execute_result",
          "data": {
            "text/plain": [
              "0.833"
            ]
          },
          "metadata": {},
          "execution_count": 53
        }
      ]
    },
    {
      "cell_type": "code",
      "source": [
        "cm"
      ],
      "metadata": {
        "colab": {
          "base_uri": "https://localhost:8080/"
        },
        "id": "VzUG7flAX0fu",
        "outputId": "3b5e3e52-c96b-4264-880f-a0fc79c0ed02"
      },
      "execution_count": 54,
      "outputs": [
        {
          "output_type": "execute_result",
          "data": {
            "text/plain": [
              "array([[1588,    7],\n",
              "       [ 327,   78]])"
            ]
          },
          "metadata": {},
          "execution_count": 54
        }
      ]
    },
    {
      "cell_type": "code",
      "source": [
        ""
      ],
      "metadata": {
        "id": "XNEzp6TCX2NY"
      },
      "execution_count": null,
      "outputs": []
    }
  ]
}